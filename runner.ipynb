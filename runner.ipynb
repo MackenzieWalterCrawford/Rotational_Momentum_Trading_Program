{
 "cells": [
  {
   "cell_type": "code",
   "execution_count": 1,
   "metadata": {},
   "outputs": [],
   "source": [
    "from DataIngestor import DataIngestor\n",
    "from SharpeSurfaceGenerator import SharpeSurfaceGenerator"
   ]
  },
  {
   "cell_type": "code",
   "execution_count": 2,
   "metadata": {},
   "outputs": [],
   "source": [
    "import pandas as pd"
   ]
  },
  {
   "cell_type": "code",
   "execution_count": 3,
   "metadata": {},
   "outputs": [],
   "source": [
    "from datetime import datetime\n",
    "start_year = 2018\n",
    "start_date= datetime(start_year, 1, 1)\n",
    "#end_date= datetime(2022, 12, 31)\n",
    "end_date= datetime.now()\n",
    "canada_etfs = [\"FDN.TO\",\n",
    "\"FBT.TO\",\n",
    "\"ZEO.TO\",\n",
    "\"SKYY.TO\",\n",
    "\"XHC.TO\",\n",
    "\"FHH.TO\",\n",
    "\"ZGEN.TO\",\n",
    "\"EARK.NE\",\n",
    "\"CIF.TO\",\n",
    "\"FHG.TO\",\n",
    "\"TRVL.TO\",\n",
    "\"FHQ.TO\",\n",
    "\"NXTG.TO\",\n",
    "\"ZBK.TO\",\n",
    "\"RUBY.TO\",\n",
    "\"FLI.TO\",\n",
    "\"XST.TO\",\n",
    "\"COMM.TO\",\n",
    "\"CHPS.TO\",\n",
    "\"TGRE.TO\",\n",
    "\"XGB.TO\"]\n",
    "\n",
    "\n",
    "\n",
    "canada_bonds = [\n",
    "    \"VSC.TO\",\n",
    "    \"VSB.TO\",\n",
    "    \"ZIC.TO\",\n",
    "    \"HBB.TO\",\n",
    "    \"TDB.TO\",\n",
    "    \"XBB.TO\",\n",
    "    \"XGB.TO\"]\n",
    "\n",
    "stock_list = canada_bonds"
   ]
  },
  {
   "cell_type": "code",
   "execution_count": 4,
   "metadata": {},
   "outputs": [
    {
     "name": "stdout",
     "output_type": "stream",
     "text": [
      "[*********************100%***********************]  1 of 1 completed\n",
      "Index(['VSC.TO'], dtype='object')\n",
      "[*********************100%***********************]  1 of 1 completed\n",
      "Index(['VSB.TO'], dtype='object')\n",
      "[*********************100%***********************]  1 of 1 completed\n",
      "Index(['ZIC.TO'], dtype='object')\n",
      "[*********************100%***********************]  1 of 1 completed\n",
      "Index(['HBB.TO'], dtype='object')\n",
      "[*********************100%***********************]  1 of 1 completed\n",
      "Index(['TDB.TO'], dtype='object')\n",
      "[*********************100%***********************]  1 of 1 completed\n",
      "Index(['XBB.TO'], dtype='object')\n",
      "[*********************100%***********************]  1 of 1 completed\n",
      "Index(['XGB.TO'], dtype='object')\n",
      "[*********************100%***********************]  1 of 1 completed\n",
      "Index(['VSC.TO'], dtype='object')\n",
      "[*********************100%***********************]  1 of 1 completed\n",
      "Index(['VSB.TO'], dtype='object')\n",
      "[*********************100%***********************]  1 of 1 completed\n",
      "Index(['ZIC.TO'], dtype='object')\n",
      "[*********************100%***********************]  1 of 1 completed\n",
      "Index(['HBB.TO'], dtype='object')\n",
      "[*********************100%***********************]  1 of 1 completed\n",
      "Index(['TDB.TO'], dtype='object')\n",
      "[*********************100%***********************]  1 of 1 completed\n",
      "Index(['XBB.TO'], dtype='object')\n",
      "[*********************100%***********************]  1 of 1 completed\n",
      "Index(['XGB.TO'], dtype='object')\n"
     ]
    }
   ],
   "source": [
    "data_ingestor = DataIngestor(stock_list, start_date, end_date)"
   ]
  },
  {
   "cell_type": "code",
   "execution_count": 5,
   "metadata": {},
   "outputs": [
    {
     "ename": "KeyError",
     "evalue": "\"None of ['Date'] are in the columns\"",
     "output_type": "error",
     "traceback": [
      "\u001b[0;31m---------------------------------------------------------------------------\u001b[0m",
      "\u001b[0;31mKeyError\u001b[0m                                  Traceback (most recent call last)",
      "Cell \u001b[0;32mIn[5], line 1\u001b[0m\n\u001b[0;32m----> 1\u001b[0m close_df, adj_close_df \u001b[39m=\u001b[39m data_ingestor\u001b[39m.\u001b[39;49mclose_df_adj_close_df()\n",
      "File \u001b[0;32m~/Rotational_Momentum_Trading_Program/DataIngestor.py:32\u001b[0m, in \u001b[0;36mDataIngestor.close_df_adj_close_df\u001b[0;34m(self)\u001b[0m\n\u001b[1;32m     31\u001b[0m \u001b[39mdef\u001b[39;00m \u001b[39mclose_df_adj_close_df\u001b[39m(\u001b[39mself\u001b[39m):\n\u001b[0;32m---> 32\u001b[0m     \u001b[39mself\u001b[39;49m\u001b[39m.\u001b[39;49mdf_adj_close\u001b[39m.\u001b[39;49mset_index(\u001b[39m\"\u001b[39;49m\u001b[39mDate\u001b[39;49m\u001b[39m\"\u001b[39;49m)\n\u001b[1;32m     33\u001b[0m     \u001b[39mself\u001b[39m\u001b[39m.\u001b[39mdf_close\u001b[39m.\u001b[39mset_index(\u001b[39m\"\u001b[39m\u001b[39mDate\u001b[39m\u001b[39m\"\u001b[39m)\n\u001b[1;32m     34\u001b[0m     \u001b[39mreturn\u001b[39;00m \u001b[39mself\u001b[39m\u001b[39m.\u001b[39mdf_close, \u001b[39mself\u001b[39m\u001b[39m.\u001b[39mdf_adj_close\n",
      "File \u001b[0;32m/opt/conda/lib/python3.10/site-packages/pandas/util/_decorators.py:331\u001b[0m, in \u001b[0;36mdeprecate_nonkeyword_arguments.<locals>.decorate.<locals>.wrapper\u001b[0;34m(*args, **kwargs)\u001b[0m\n\u001b[1;32m    325\u001b[0m \u001b[39mif\u001b[39;00m \u001b[39mlen\u001b[39m(args) \u001b[39m>\u001b[39m num_allow_args:\n\u001b[1;32m    326\u001b[0m     warnings\u001b[39m.\u001b[39mwarn(\n\u001b[1;32m    327\u001b[0m         msg\u001b[39m.\u001b[39mformat(arguments\u001b[39m=\u001b[39m_format_argument_list(allow_args)),\n\u001b[1;32m    328\u001b[0m         \u001b[39mFutureWarning\u001b[39;00m,\n\u001b[1;32m    329\u001b[0m         stacklevel\u001b[39m=\u001b[39mfind_stack_level(),\n\u001b[1;32m    330\u001b[0m     )\n\u001b[0;32m--> 331\u001b[0m \u001b[39mreturn\u001b[39;00m func(\u001b[39m*\u001b[39;49margs, \u001b[39m*\u001b[39;49m\u001b[39m*\u001b[39;49mkwargs)\n",
      "File \u001b[0;32m/opt/conda/lib/python3.10/site-packages/pandas/core/frame.py:6012\u001b[0m, in \u001b[0;36mDataFrame.set_index\u001b[0;34m(self, keys, drop, append, inplace, verify_integrity)\u001b[0m\n\u001b[1;32m   6009\u001b[0m                 missing\u001b[39m.\u001b[39mappend(col)\n\u001b[1;32m   6011\u001b[0m \u001b[39mif\u001b[39;00m missing:\n\u001b[0;32m-> 6012\u001b[0m     \u001b[39mraise\u001b[39;00m \u001b[39mKeyError\u001b[39;00m(\u001b[39mf\u001b[39m\u001b[39m\"\u001b[39m\u001b[39mNone of \u001b[39m\u001b[39m{\u001b[39;00mmissing\u001b[39m}\u001b[39;00m\u001b[39m are in the columns\u001b[39m\u001b[39m\"\u001b[39m)\n\u001b[1;32m   6014\u001b[0m \u001b[39mif\u001b[39;00m inplace:\n\u001b[1;32m   6015\u001b[0m     frame \u001b[39m=\u001b[39m \u001b[39mself\u001b[39m\n",
      "\u001b[0;31mKeyError\u001b[0m: \"None of ['Date'] are in the columns\""
     ]
    }
   ],
   "source": [
    "close_df, adj_close_df = data_ingestor.close_df_adj_close_df()"
   ]
  },
  {
   "cell_type": "code",
   "execution_count": null,
   "metadata": {},
   "outputs": [],
   "source": [
    "\n",
    "sharpe_gen = SharpeSurfaceGenerator(close_df, adj_close_df)"
   ]
  },
  {
   "cell_type": "code",
   "execution_count": null,
   "metadata": {},
   "outputs": [],
   "source": [
    "close_df.head()"
   ]
  },
  {
   "cell_type": "code",
   "execution_count": null,
   "metadata": {},
   "outputs": [],
   "source": [
    "sharpe_gen.plot_sharpe_surface()"
   ]
  },
  {
   "attachments": {},
   "cell_type": "markdown",
   "metadata": {},
   "source": []
  },
  {
   "cell_type": "code",
   "execution_count": null,
   "metadata": {},
   "outputs": [],
   "source": [
    "%run etf_ranking.py"
   ]
  },
  {
   "cell_type": "code",
   "execution_count": null,
   "metadata": {},
   "outputs": [],
   "source": [
    "\"\"\"\n",
    "Bond parameters\n",
    "holding = 18\n",
    "lookback = 8\"\"\""
   ]
  },
  {
   "cell_type": "code",
   "execution_count": null,
   "metadata": {},
   "outputs": [],
   "source": [
    "import pandas as pd\n",
    "dfP = pd.read_csv(\n",
    "    \"VSC.TO.VSB.TO.ZIC.TO.HBB.TO.TDB.TO.XBB.TO.XGB.TO.csv\", parse_dates=[\"Date\"]\n",
    ")"
   ]
  },
  {
   "cell_type": "code",
   "execution_count": null,
   "metadata": {},
   "outputs": [],
   "source": [
    "for i in dfP.columns:\n",
    "    print(i)"
   ]
  },
  {
   "cell_type": "code",
   "execution_count": null,
   "metadata": {},
   "outputs": [],
   "source": [
    "dfP.columns[1]"
   ]
  },
  {
   "cell_type": "code",
   "execution_count": null,
   "metadata": {},
   "outputs": [],
   "source": [
    "dfAll_ranks.to_csv(r'Results\\dfAll_ranks.csv', header = True, index=True, encoding='utf-8')"
   ]
  },
  {
   "cell_type": "code",
   "execution_count": null,
   "metadata": {},
   "outputs": [],
   "source": [
    "dfChoice.to_csv(r'Results\\dfChoice.csv', header = True, index=True, encoding='utf-8')"
   ]
  },
  {
   "cell_type": "code",
   "execution_count": null,
   "metadata": {},
   "outputs": [],
   "source": [
    "dfTJoin.to_csv(r'Results\\dfTJoin.csv', header = True, index=True, encoding='utf-8')"
   ]
  },
  {
   "cell_type": "code",
   "execution_count": null,
   "metadata": {},
   "outputs": [],
   "source": [
    "%run Hierarchal_Clustering.py"
   ]
  },
  {
   "attachments": {},
   "cell_type": "markdown",
   "metadata": {},
   "source": [
    "From the hierarchal clustering analysis, it is best to choose 5 clusters. \n",
    "\n",
    "Cluster 1: 15,2,1,3,18,17,28,11,0,10,16,19,14,13,12,29\n",
    "\n",
    "Cluster 2: 21,27,7,25,20,22,23\n",
    "\n",
    "Cluster 3: 24\n",
    "\n",
    "Cluster 4: 26\n",
    "\n",
    "Cluster 5: 6,4,5,8,9"
   ]
  },
  {
   "cell_type": "code",
   "execution_count": null,
   "metadata": {},
   "outputs": [],
   "source": [
    "Z"
   ]
  },
  {
   "cell_type": "code",
   "execution_count": null,
   "metadata": {},
   "outputs": [],
   "source": [
    "main_df.head"
   ]
  },
  {
   "cell_type": "code",
   "execution_count": null,
   "metadata": {},
   "outputs": [],
   "source": [
    "%run Data_Ingestion_Rot_Momentum.py"
   ]
  },
  {
   "cell_type": "code",
   "execution_count": null,
   "metadata": {},
   "outputs": [],
   "source": []
  },
  {
   "cell_type": "code",
   "execution_count": null,
   "metadata": {},
   "outputs": [],
   "source": []
  }
 ],
 "metadata": {
  "kernelspec": {
   "display_name": "Python 3 (ipykernel)",
   "language": "python",
   "name": "python3"
  },
  "language_info": {
   "codemirror_mode": {
    "name": "ipython",
    "version": 3
   },
   "file_extension": ".py",
   "mimetype": "text/x-python",
   "name": "python",
   "nbconvert_exporter": "python",
   "pygments_lexer": "ipython3",
   "version": "3.10.10"
  },
  "orig_nbformat": 4,
  "vscode": {
   "interpreter": {
    "hash": "8211885f1595ddc1d7267556019108a63981697ff2e3c528aabcaaa7a2cadd75"
   }
  }
 },
 "nbformat": 4,
 "nbformat_minor": 2
}
