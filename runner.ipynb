{
 "cells": [
  {
   "cell_type": "code",
   "execution_count": null,
   "metadata": {},
   "outputs": [],
   "source": [
    "from DataIngestor import DataIngestor\n",
    "from SharpeSurfaceGenerator import SharpeSurfaceGenerator"
   ]
  },
  {
   "cell_type": "code",
   "execution_count": null,
   "metadata": {},
   "outputs": [],
   "source": [
    "import pandas as pd"
   ]
  },
  {
   "cell_type": "code",
   "execution_count": null,
   "metadata": {},
   "outputs": [],
   "source": [
    "from datetime import datetime\n",
    "start_year = 2018\n",
    "start_date= datetime(start_year, 1, 1)\n",
    "#end_date= datetime(2022, 12, 31)\n",
    "end_date= datetime.now()\n",
    "canada_etfs = [\"FDN.TO\",\n",
    "\"FBT.TO\",\n",
    "\"ZEO.TO\",\n",
    "\"SKYY.TO\",\n",
    "\"XHC.TO\",\n",
    "\"FHH.TO\",\n",
    "\"ZGEN.TO\",\n",
    "\"EARK.NE\",\n",
    "\"CIF.TO\",\n",
    "\"FHG.TO\",\n",
    "\"TRVL.TO\",\n",
    "\"FHQ.TO\",\n",
    "\"NXTG.TO\",\n",
    "\"ZBK.TO\",\n",
    "\"RUBY.TO\",\n",
    "\"FLI.TO\",\n",
    "\"XST.TO\",\n",
    "\"COMM.TO\",\n",
    "\"CHPS.TO\",\n",
    "\"TGRE.TO\",\n",
    "\"XGB.TO\"]\n",
    "\n",
    "\n",
    "\n",
    "canada_bonds = [\n",
    "    \"VSC.TO\",\n",
    "    \"VSB.TO\",\n",
    "    \"ZIC.TO\",\n",
    "    \"HBB.TO\",\n",
    "    \"TDB.TO\",\n",
    "    \"XBB.TO\",\n",
    "    \"XGB.TO\"]\n",
    "\n",
    "stock_list = canada_bonds"
   ]
  },
  {
   "cell_type": "code",
   "execution_count": null,
   "metadata": {},
   "outputs": [],
   "source": [
    "data_ingestor = DataIngestor(stock_list, start_date, end_date)"
   ]
  },
  {
   "cell_type": "code",
   "execution_count": null,
   "metadata": {},
   "outputs": [],
   "source": [
    "close_df, adj_close_df = data_ingestor.close_df_adj_close_df()"
   ]
  },
  {
   "cell_type": "code",
   "execution_count": null,
   "metadata": {},
   "outputs": [],
   "source": [
    "\n",
    "sharpe_gen = SharpeSurfaceGenerator(close_df, adj_close_df)"
   ]
  },
  {
   "cell_type": "code",
   "execution_count": null,
   "metadata": {},
   "outputs": [],
   "source": [
    "close_df.head()"
   ]
  },
  {
   "cell_type": "code",
   "execution_count": null,
   "metadata": {},
   "outputs": [],
   "source": [
    "sharpe_gen.plot_sharpe_surface()"
   ]
  },
  {
   "attachments": {},
   "cell_type": "markdown",
   "metadata": {},
   "source": []
  },
  {
   "cell_type": "code",
   "execution_count": null,
   "metadata": {},
   "outputs": [],
   "source": [
    "close_df.iloc[-1]"
   ]
  },
  {
   "cell_type": "code",
   "execution_count": null,
   "metadata": {},
   "outputs": [],
   "source": [
    "close_df.tail()"
   ]
  },
  {
   "cell_type": "code",
   "execution_count": null,
   "metadata": {},
   "outputs": [],
   "source": [
    "\"\"\"\n",
    "Bond parameters\n",
    "holding = 18\n",
    "lookback = 8\"\"\""
   ]
  },
  {
   "cell_type": "code",
   "execution_count": null,
   "metadata": {},
   "outputs": [],
   "source": [
    "import pandas as pd\n",
    "dfP = pd.read_csv(\n",
    "    \"VSC.TO.VSB.TO.ZIC.TO.HBB.TO.TDB.TO.XBB.TO.XGB.TO.csv\", parse_dates=[\"Date\"]\n",
    ")"
   ]
  },
  {
   "cell_type": "code",
   "execution_count": null,
   "metadata": {},
   "outputs": [],
   "source": [
    "for i in dfP.columns:\n",
    "    print(i)"
   ]
  },
  {
   "cell_type": "code",
   "execution_count": null,
   "metadata": {},
   "outputs": [],
   "source": [
    "dfP.columns[1]"
   ]
  },
  {
   "cell_type": "code",
   "execution_count": null,
   "metadata": {},
   "outputs": [],
   "source": [
    "dfAll_ranks.to_csv(r'Results\\dfAll_ranks.csv', header = True, index=True, encoding='utf-8')"
   ]
  },
  {
   "cell_type": "code",
   "execution_count": null,
   "metadata": {},
   "outputs": [],
   "source": [
    "dfChoice.to_csv(r'Results\\dfChoice.csv', header = True, index=True, encoding='utf-8')"
   ]
  },
  {
   "cell_type": "code",
   "execution_count": null,
   "metadata": {},
   "outputs": [],
   "source": [
    "dfTJoin.to_csv(r'Results\\dfTJoin.csv', header = True, index=True, encoding='utf-8')"
   ]
  },
  {
   "cell_type": "code",
   "execution_count": null,
   "metadata": {},
   "outputs": [],
   "source": [
    "%run Hierarchal_Clustering.py"
   ]
  },
  {
   "attachments": {},
   "cell_type": "markdown",
   "metadata": {},
   "source": [
    "From the hierarchal clustering analysis, it is best to choose 5 clusters. \n",
    "\n",
    "Cluster 1: 15,2,1,3,18,17,28,11,0,10,16,19,14,13,12,29\n",
    "\n",
    "Cluster 2: 21,27,7,25,20,22,23\n",
    "\n",
    "Cluster 3: 24\n",
    "\n",
    "Cluster 4: 26\n",
    "\n",
    "Cluster 5: 6,4,5,8,9"
   ]
  },
  {
   "cell_type": "code",
   "execution_count": null,
   "metadata": {},
   "outputs": [],
   "source": [
    "Z"
   ]
  },
  {
   "cell_type": "code",
   "execution_count": null,
   "metadata": {},
   "outputs": [],
   "source": [
    "main_df.head"
   ]
  },
  {
   "cell_type": "code",
   "execution_count": null,
   "metadata": {},
   "outputs": [],
   "source": [
    "%run Data_Ingestion_Rot_Momentum.py"
   ]
  },
  {
   "cell_type": "code",
   "execution_count": null,
   "metadata": {},
   "outputs": [],
   "source": []
  },
  {
   "cell_type": "code",
   "execution_count": null,
   "metadata": {},
   "outputs": [],
   "source": []
  }
 ],
 "metadata": {
  "kernelspec": {
   "display_name": "Python 3 (ipykernel)",
   "language": "python",
   "name": "python3"
  },
  "language_info": {
   "codemirror_mode": {
    "name": "ipython",
    "version": 3
   },
   "file_extension": ".py",
   "mimetype": "text/x-python",
   "name": "python",
   "nbconvert_exporter": "python",
   "pygments_lexer": "ipython3",
   "version": "3.10.10"
  },
  "orig_nbformat": 4,
  "vscode": {
   "interpreter": {
    "hash": "8211885f1595ddc1d7267556019108a63981697ff2e3c528aabcaaa7a2cadd75"
   }
  }
 },
 "nbformat": 4,
 "nbformat_minor": 2
}
