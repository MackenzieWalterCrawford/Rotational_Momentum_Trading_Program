{
 "cells": [
  {
   "cell_type": "code",
   "execution_count": null,
   "metadata": {},
   "outputs": [],
   "source": [
    "from DataIngestor import DataIngestor\n",
    "from SharpeSurfaceGenerator import SharpeSurfaceGenerator\n",
    "from ETFRanker import ETFRanker\n",
    "\n",
    "from datetime import datetime\n",
    "import pandas as pd\n",
    "pd.set_option('display.max_columns', None)\n",
    "pd.set_option('display.max_rows', None)"
   ]
  },
  {
   "cell_type": "code",
   "execution_count": null,
   "metadata": {},
   "outputs": [],
   "source": [
    "# logReturns = 1 means log returns will be used in the calculation of portfolio returns, 0 means pct_changes\n",
    "# Aperiods = lookback, determines what counts as the short term period, 20 days is the Default setting\n",
    "# the selection of the ETF is based on maximum weighted score of:\n",
    "\n",
    "# A returns, or returns in the short term period\n",
    "\n",
    "# B returns, or returns in the longer term period (here set to 3 times the short term period)\n",
    "\n",
    "# volatility, or volatility in the short term period.\n",
    "\n",
    "# Frequency= holding period, how long to wait to rebalance, 18W-FRI is the Default setting for SPY-TLT combination.\n",
    "# The frequency of a given ETF list can be determined by generating a Sharpe surface, assuming Fridays is the best trading day.\n",
    "\n",
    "# Frequency=\"B\" every business day, \"D\" every calendar day; \"10B\" means every 10 business days (\"2B\" is the minimum)\n",
    "# Frequency=\"W\" every weeek, \"2W\" for every 2 weeks, \"3W\" every 3 weeks etc\n",
    "# Frequency=\"W-TUE\" every Tuesday, \"2W-TUE\" for every 2 Tuesdays, \"3W-TUE\" every 3 Tuesdays etc\n",
    "# Frequency= \"BM\" every month, \"2BM\" for every 2 months, \"3BM\" every 3 months etc; B relates to business days; 31 or previous business day if necessary\n",
    "# Frequency=\"SM\" on the middle (15) and end (31) of the month, or previous business day if necessary\n",
    "\n",
    "# Delay = 1 if the trade occurs instantaneously with the signal, 2 if the trade occurs 1 day after the signal\n",
    "\n",
    "# ShortTermWeight = the weight of short term returns, .3 by default\n",
    "# LongTermWeight = the weight of long term returns, .4 by default\n",
    "# ShortTermVolatilityWeight = the weight of short term volatility, .4\n",
    "# ShortTermWeight+LongTermWeight+ShortTermVolatilityWeight should add up to 1.\n",
    "\n",
    "# other parameters (experimental)\n",
    "# Cash Filter = 0 (or 1) forces the portfolio to invest in whatever ETF in the list \"StandsForCash\"\n",
    "# MAperiods = moving average, usually 200, that prices have to be above of to allow trading, if the cash filter is set to 1.\n",
    "# StandsForCash = \"TLT\" #what the system invests in when the CashFilter is triggered, the rightmost ETF in the dataframe\n",
    "# if you set cash filter to 1, you need to identify what ETF StandsForCash (should be the rightmost ETF in the dataframe)\n",
    "# Zboundary = -1.5 #alternative cash filter (but need understand and to uncomment line: alternative cash filter)\n",
    "# Zperiods = 200  #alternative cash filter  (but need understand and to uncomment line: alternative cash filter)\n",
    "# momentum = 1 means A and B returns are ranked in increasing order (momentum), 0 in decreasing order (reversion to the mean)\n",
    "# volmomentum = 1 volatility ranked in increasing order (momentum), 0 in decreasing order (reversion to the mean)\n"
   ]
  },
  {
   "cell_type": "code",
   "execution_count": null,
   "metadata": {},
   "outputs": [],
   "source": [
    "##############\n",
    "# PARAMETERS #\n",
    "##############\n",
    "\n",
    "# momentum --> experimental mean reversion trading\n",
    "# CashFilter, MAperiods, StandsForCash --> for the experimental cash filter\n",
    "# Aperiods = lookback, determines what counts as the short term period, 20 days is the Default setting\n",
    "# frequency = holding\n",
    "\n",
    "param_dict = {\"logReturns\": 0,\n",
    "\"Aperiods\": 6 * 5, \n",
    "\"Frequency\": \"14W-FRI\",\n",
    "\"momentum\" : 1,\n",
    "\"CashFilter\" : 0,\n",
    "\"MAperiods\" : 200,\n",
    "\"Delay\" : 1,\n",
    "\"ShortTermWeight\" : 0.3,\n",
    "\"LongTermWeight\" : 0.4,\n",
    "\"ShortTermVolatilityWeight\" : 0.4,\n",
    "\"StandsForCash\" : \"SHY\",\n",
    "\"max_holding\" : 20,\n",
    "\"step_holding\" : 1,\n",
    "\"max_lookback\" : 12,\n",
    "\"step_lookback\" : 5,\n",
    "\"Zboundary\": -1.5,\n",
    "\"Zperiods\": 200,}\n",
    "\n",
    "\n",
    "\n",
    "start_year = 2018\n",
    "start_date= datetime(start_year, 1, 1)\n",
    "#end_date= datetime(2022, 12, 31)\n",
    "end_date= datetime.now()\n",
    "canada_etfs = [\"FDN.TO\",\n",
    "\"FBT.TO\",\n",
    "\"ZEO.TO\",\n",
    "\"SKYY.TO\",\n",
    "\"XHC.TO\",\n",
    "\"FHH.TO\",\n",
    "\"ZGEN.TO\",\n",
    "\"EARK.NE\",\n",
    "\"CIF.TO\",\n",
    "\"FHG.TO\",\n",
    "\"TRVL.TO\",\n",
    "\"FHQ.TO\",\n",
    "\"NXTG.TO\",\n",
    "\"ZBK.TO\",\n",
    "\"RUBY.TO\",\n",
    "\"FLI.TO\",\n",
    "\"XST.TO\",\n",
    "\"COMM.TO\",\n",
    "\"CHPS.TO\",\n",
    "\"TGRE.TO\",\n",
    "\"XGB.TO\"]\n",
    "\n",
    "\n",
    "\n",
    "canada_bonds = [\n",
    "    \"VSC.TO\",\n",
    "    \"VSB.TO\",\n",
    "    \"ZIC.TO\",\n",
    "    \"HBB.TO\",\n",
    "    \"TDB.TO\",\n",
    "    \"XBB.TO\",\n",
    "    \"XGB.TO\"]\n",
    "\n",
    "stock_list = canada_etfs"
   ]
  },
  {
   "cell_type": "code",
   "execution_count": null,
   "metadata": {},
   "outputs": [],
   "source": [
    "# ingest data from yahoo finance\n",
    "data_ingestor = DataIngestor(stock_list, start_date, end_date)"
   ]
  },
  {
   "cell_type": "code",
   "execution_count": null,
   "metadata": {},
   "outputs": [],
   "source": [
    "# set dataframes from ingested data\n",
    "close_df, adj_close_df = data_ingestor.close_df_adj_close_df()"
   ]
  },
  {
   "cell_type": "code",
   "execution_count": null,
   "metadata": {},
   "outputs": [],
   "source": [
    "# Generate sharpe surface to find optimal lookback and holding period. \n",
    "# use the max_lookback and max_holding paramters to adjust the limits of the graph\n",
    "sharpe_gen = SharpeSurfaceGenerator(close_df, adj_close_df, param_dict)"
   ]
  },
  {
   "cell_type": "code",
   "execution_count": null,
   "metadata": {},
   "outputs": [],
   "source": [
    "sharpe_gen.generate_sharpe_matrix()"
   ]
  },
  {
   "cell_type": "code",
   "execution_count": null,
   "metadata": {},
   "outputs": [],
   "source": [
    "#plot Sharpe surface\n",
    "sharpe_gen.plot_sharpe_surface()"
   ]
  },
  {
   "attachments": {},
   "cell_type": "markdown",
   "metadata": {},
   "source": []
  },
  {
   "cell_type": "code",
   "execution_count": null,
   "metadata": {},
   "outputs": [],
   "source": [
    "# rank ETFs to make a choice for today/end_date\n",
    "ranker = ETFRanker(close_df, adj_close_df, param_dict)"
   ]
  },
  {
   "cell_type": "code",
   "execution_count": null,
   "metadata": {},
   "outputs": [],
   "source": [
    "# choose highest rank\n",
    "ranker.rank_etfs()"
   ]
  },
  {
   "cell_type": "code",
   "execution_count": null,
   "metadata": {},
   "outputs": [],
   "source": [
    "# The Rotational_Momentum_Simulator will show the returns over a given trading period.\n",
    "\n",
    "# July 28, 2023 - ETF lookback: 6, holding 14"
   ]
  }
 ],
 "metadata": {
  "kernelspec": {
   "display_name": "Python 3 (ipykernel)",
   "language": "python",
   "name": "python3"
  },
  "language_info": {
   "codemirror_mode": {
    "name": "ipython",
    "version": 3
   },
   "file_extension": ".py",
   "mimetype": "text/x-python",
   "name": "python",
   "nbconvert_exporter": "python",
   "pygments_lexer": "ipython3",
   "version": "3.10.10"
  },
  "orig_nbformat": 4,
  "vscode": {
   "interpreter": {
    "hash": "8211885f1595ddc1d7267556019108a63981697ff2e3c528aabcaaa7a2cadd75"
   }
  }
 },
 "nbformat": 4,
 "nbformat_minor": 2
}
